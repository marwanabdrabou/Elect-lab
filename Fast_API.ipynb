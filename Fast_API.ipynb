{
 "cells": [
  {
   "cell_type": "code",
   "execution_count": 1,
   "id": "6142c557-80f6-47e0-9304-03133805be33",
   "metadata": {},
   "outputs": [],
   "source": [
    "import warnings\n",
    "warnings.filterwarnings(\"ignore\")\n",
    "from tensorflow.keras.utils import img_to_array\n",
    "from keras.models import load_model\n",
    "import tensorflow as tf\n",
    "from PIL import Image\n",
    "import numpy as np\n",
    "from io import BytesIO\n",
    "import io\n",
    "import joblib\n",
    "from fastapi import FastAPI,UploadFile,File\n",
    "from pydantic import BaseModel\n",
    "import pickle\n",
    "import uvicorn\n",
    "import json\n",
    "import nest_asyncio\n"
   ]
  },
  {
   "cell_type": "code",
   "execution_count": 2,
   "id": "7587a60e",
   "metadata": {},
   "outputs": [
    {
     "name": "stdout",
     "output_type": "stream",
     "text": [
      "Collecting pyngrok\n",
      "  Downloading pyngrok-5.2.1.tar.gz (761 kB)\n",
      "     ------------------------------------ 761.3/761.3 kB 302.4 kB/s eta 0:00:00\n",
      "  Preparing metadata (setup.py): started\n",
      "  Preparing metadata (setup.py): finished with status 'done'\n",
      "Collecting PyYAML\n",
      "  Downloading PyYAML-6.0-cp310-cp310-win_amd64.whl (151 kB)\n",
      "     -------------------------------------- 151.7/151.7 kB 1.1 MB/s eta 0:00:00\n",
      "Building wheels for collected packages: pyngrok\n",
      "  Building wheel for pyngrok (setup.py): started\n",
      "  Building wheel for pyngrok (setup.py): finished with status 'done'\n",
      "  Created wheel for pyngrok: filename=pyngrok-5.2.1-py3-none-any.whl size=19793 sha256=e765a0505b10240aaac748af7548e9651fe51b0f895665fed06a5a97ae6450aa\n",
      "  Stored in directory: c:\\users\\marwan gamal\\appdata\\local\\pip\\cache\\wheels\\1a\\b2\\89\\c70c614777a68db33b539d5b3ba68d22bda56c0aa827fe1a3e\n",
      "Successfully built pyngrok\n",
      "Installing collected packages: PyYAML, pyngrok\n",
      "Successfully installed PyYAML-6.0 pyngrok-5.2.1\n"
     ]
    }
   ],
   "source": [
    "! pip install pyngrok"
   ]
  },
  {
   "cell_type": "code",
   "execution_count": 2,
   "id": "5817c038-5fdc-44dd-83af-70741fe3c7ec",
   "metadata": {},
   "outputs": [],
   "source": [
    "app = FastAPI()"
   ]
  },
  {
   "cell_type": "code",
   "execution_count": 3,
   "id": "cb3ed920-45fb-450a-8a08-1ffdca5825dc",
   "metadata": {},
   "outputs": [],
   "source": [
    "origins = [\"*\"]\n",
    "\n",
    "app.add_middleware(\n",
    "    CORSMiddleware,\n",
    "    allow_origins=origins,\n",
    "    allow_credentials=True,\n",
    "    allow_methods=[\"*\"],\n",
    "    allow_headers=[\"*\"],\n",
    ")"
   ]
  },
  {
   "cell_type": "code",
   "execution_count": 4,
   "id": "a08213b6-ac4d-49ab-befb-31701676860e",
   "metadata": {},
   "outputs": [],
   "source": [
    "def read_imagefile(file) -> Image.Image:\n",
    "    image = Image.open(BytesIO(file))\n",
    "    return image"
   ]
  },
  {
   "cell_type": "markdown",
   "id": "573d7372-b80b-494f-9fea-70a29e5a5269",
   "metadata": {},
   "source": [
    "______"
   ]
  },
  {
   "cell_type": "markdown",
   "id": "63c8903f-8e99-4434-aed2-f335eed312c6",
   "metadata": {},
   "source": [
    "### Skin cancer"
   ]
  },
  {
   "cell_type": "markdown",
   "id": "1427fa1c-ab67-45bb-9203-7b577b5e1a36",
   "metadata": {},
   "source": [
    "_______"
   ]
  },
  {
   "cell_type": "code",
   "execution_count": 5,
   "id": "e6c467f5-e15e-495a-993c-7d125c794b7c",
   "metadata": {},
   "outputs": [],
   "source": [
    "@app.post(\"/skin_cancer_predict\")\n",
    "\n",
    "async def predict_api(file: UploadFile = File(...)):\n",
    "    extension = file.filename.split(\".\")[-1] in (\"jpg\", \"jpeg\", \"png\")\n",
    "    if not extension:\n",
    "        return \"Image must be jpg or png format!\"\n",
    "    \n",
    "    image = read_imagefile(await file.read())\n",
    "    # image = Image.open(image)\n",
    "    if image.mode != \"RGB\":\n",
    "        image = image.convert(\"RGB\")\n",
    "\n",
    "    # resize the input image and preprocess it\n",
    "    image = image.resize((28,28))\n",
    "    image = img_to_array(image)\n",
    "    image = np.expand_dims(image, axis=0)\n",
    "    \n",
    "    \n",
    "    model_Skin= tf.keras.models.load_model(\"skin_cancer_model.sav\")\n",
    "    \n",
    "    label_mapping = {\n",
    "    0: 'nv',\n",
    "    1: 'mel',\n",
    "    2: 'bkl',\n",
    "    3: 'bcc',\n",
    "    4: 'akiec',\n",
    "    5: 'vasc',\n",
    "    6: 'df'}\n",
    "\n",
    "    lesion_type_dict = {\n",
    "        'nv': 'Melanocytic nevi',\n",
    "        'mel': 'Melanoma',\n",
    "        'bkl': 'Benign keratosis-like lesions',\n",
    "        'bcc': 'Basal cell carcinoma',\n",
    "        'akiec': 'Actinic keratoses',\n",
    "        'vasc': 'Vascular lesions',\n",
    "        'df': 'Dermatofibroma'}\n",
    "\n",
    "    mixed = {\n",
    "        0: 'Melanocytic nevi',\n",
    "        1: 'Melanoma ',\n",
    "        2: 'Benign keratosis-like lesions',\n",
    "        3: 'Basal cell carcinoma',\n",
    "        4: 'Actinic keratoses',\n",
    "        5: 'Vascular lesions',\n",
    "        6: 'Dermatofibroma'}\n",
    "    \n",
    "    return lesion_type_dict[label_mapping[np.argmax(model_Skin.predict(image))]]"
   ]
  },
  {
   "cell_type": "markdown",
   "id": "a5b302dd-d5db-41d3-a15f-8d8ab6930f9a",
   "metadata": {},
   "source": [
    "__________"
   ]
  },
  {
   "cell_type": "markdown",
   "id": "9ef9560b-94e5-4e97-9bf0-c2631b164be1",
   "metadata": {},
   "source": [
    "### Diabetes"
   ]
  },
  {
   "cell_type": "markdown",
   "id": "80927d0d-367a-424a-b5a3-f034cbae0158",
   "metadata": {
    "tags": []
   },
   "source": [
    "______"
   ]
  },
  {
   "cell_type": "code",
   "execution_count": 6,
   "id": "8777952a-5efb-40a5-857b-77a495036593",
   "metadata": {},
   "outputs": [],
   "source": [
    "class model_input_Diabetes(BaseModel):\n",
    "    \n",
    "    Age : int\n",
    "    Gender: int\n",
    "    Polydipsia : int\n",
    "    Polyuria : int\n",
    "    Sudden_Weight_Loss : int\n",
    "    Alopecea : int\n"
   ]
  },
  {
   "cell_type": "code",
   "execution_count": 11,
   "id": "0211852c-b101-4856-83b3-4808c46a9377",
   "metadata": {},
   "outputs": [],
   "source": [
    "model_diabetes =joblib.load('RfModify_model_diabetes.hdf5')"
   ]
  },
  {
   "cell_type": "code",
   "execution_count": 12,
   "id": "6c7c0325-94f1-4eb9-b77f-07251d8c62cc",
   "metadata": {},
   "outputs": [],
   "source": [
    "@app.post('/diabetes_prediction')\n",
    "def diabetes_predd(input_parameters : model_input_Diabetes):\n",
    "    \n",
    "    input_data = input_parameters.json()\n",
    "    input_dictionary = json.loads(input_data)\n",
    "    \n",
    "    Age = input_dictionary['age']\n",
    "    Gender = input_dictionary['gender']\n",
    "    Polydipsia = input_dictionary['Polydipsia']\n",
    "    Polyuria = input_dictionary['Polyuria']\n",
    "    Sudden_Weight_Loss = input_dictionary['sudden_weight_loss']\n",
    "    Alopecea = input_dictionary['Alopecia']\n",
    "    \n",
    "    \n",
    "    input_list = [Age, Gender, Polydipsia, Polyuria, Sudden_Weight_Loss, Alopecea]\n",
    "    \n",
    "    prediction = model_diabetes.predict([input_list])\n",
    "    \n",
    "    if (prediction[0] == 0):\n",
    "        return 'Negative'\n",
    "    else:\n",
    "        return 'Positive'"
   ]
  },
  {
   "cell_type": "markdown",
   "id": "92faccb6-94c3-4247-b446-023f95c4d6ae",
   "metadata": {},
   "source": [
    "___________________"
   ]
  },
  {
   "cell_type": "markdown",
   "id": "c639411e-fb45-47e5-8c60-192f84784385",
   "metadata": {},
   "source": [
    "### Chest"
   ]
  },
  {
   "cell_type": "markdown",
   "id": "82b90efc-25df-4f33-bd09-ae4e0ba98877",
   "metadata": {},
   "source": [
    "_____"
   ]
  },
  {
   "cell_type": "code",
   "execution_count": 8,
   "id": "ce8f07a2-95e2-478b-b149-ac3289898031",
   "metadata": {},
   "outputs": [],
   "source": [
    "@app.post(\"/chest_predict\")\n",
    "\n",
    "async def predict_api(file: UploadFile = File(...)):\n",
    "    extension = file.filename.split(\".\")[-1] in (\"jpg\", \"jpeg\", \"png\")\n",
    "    if not extension:\n",
    "        return \"Image must be jpg or png format!\"\n",
    "    \n",
    "    image = read_imagefile(await file.read())\n",
    "    \n",
    "    image = image.resize((128,128))\n",
    "    image = image.convert(\"L\")\n",
    "    image = img_to_array(image)\n",
    "    image = np.expand_dims(image, axis=0)\n",
    "    \n",
    "    model_Xray= tf.keras.models.load_model('x-ray_chest87.sav')\n",
    "    \n",
    "    preds = model_Xray.predict(image)\n",
    "    \n",
    "    all_labels = [\n",
    "     'Atelectasis',\n",
    "     'Cardiomegaly',\n",
    "     'Consolidation',\n",
    "     'Edema',\n",
    "     'Effusion',\n",
    "     'Emphysema',\n",
    "     'Fibrosis',\n",
    "     'Infiltration',\n",
    "     'Mass',\n",
    "     'Nodule',\n",
    "     'Pleural_Thickening',\n",
    "     'Pneumonia',\n",
    "     'Pneumothorax']\n",
    "    \n",
    "    l={}\n",
    "    for n_class, p_score in zip(all_labels, preds):\n",
    "        l[n_class[:]]=p_score*100\n",
    "\n",
    "    return max(l,key=l.get)"
   ]
  },
  {
   "cell_type": "markdown",
   "id": "7111c6a7-8572-498c-941c-41e7bbc06667",
   "metadata": {},
   "source": [
    "_____________________"
   ]
  },
  {
   "cell_type": "markdown",
   "id": "d9e71b56-30dc-4c30-a7cf-cea97dbde329",
   "metadata": {},
   "source": [
    "### Brain tumor"
   ]
  },
  {
   "cell_type": "markdown",
   "id": "7630026c-03aa-44b4-8f8e-d39de42aa6c3",
   "metadata": {},
   "source": [
    "______"
   ]
  },
  {
   "cell_type": "code",
   "execution_count": 9,
   "id": "5aff3ea6-d7ff-4eda-8f76-6ad18848634f",
   "metadata": {},
   "outputs": [],
   "source": [
    "@app.post(\"/brain_tumor_predict\")\n",
    "\n",
    "async def predict_api(file: UploadFile = File(...)):\n",
    "    extension = file.filename.split(\".\")[-1] in (\"jpg\", \"jpeg\", \"png\")\n",
    "    if not extension:\n",
    "        return \"Image must be jpg or png format!\"\n",
    "    \n",
    "    image = read_imagefile(await file.read())\n",
    "    \n",
    "    image = image.resize((150, 150))\n",
    "    image = image.convert(\"L\")\n",
    "    image = img_to_array(image)\n",
    "    image = np.expand_dims(image, axis=0)\n",
    "    \n",
    "    model_Brain =tf.keras.models.load_model('Brain_Tumor.hdf5')\n",
    "    \n",
    "    #Brain Tumor labels\n",
    "    label_mapping_brain = {\n",
    "        0: \"glioma_tumor\",\n",
    "        2:\"meningioma_tumor\",\n",
    "        1:\"no_tumor\",\n",
    "        3:\"pituitary_tumor\"}\n",
    "\n",
    "    all_labels_brain = {\n",
    "     \"glioma_tumor\":'Giloma Tumor',\n",
    "     \"no_tumor\" :'No Tumor',\n",
    "     \"meningioma_tumor\" :'Meningioma Tumor',\n",
    "     \"pituitary_tumor\" :'Pituitary Tumor'}\n",
    "    \n",
    "    return all_labels_brain[label_mapping_brain[np.argmax(model_Brain.predict(image))]]"
   ]
  },
  {
   "cell_type": "code",
   "execution_count": 10,
   "id": "54d7f0ec-7234-440a-8c22-c4bc5eb247f3",
   "metadata": {},
   "outputs": [
    {
     "name": "stderr",
     "output_type": "stream",
     "text": [
      "INFO:     Started server process [15628]\n",
      "INFO:     Waiting for application startup.\n",
      "INFO:     Application startup complete.\n",
      "INFO:     Uvicorn running on http://127.0.0.1:8000 (Press CTRL+C to quit)\n"
     ]
    },
    {
     "name": "stdout",
     "output_type": "stream",
     "text": [
      "INFO:     127.0.0.1:50176 - \"GET /docs HTTP/1.1\" 200 OK\n",
      "INFO:     127.0.0.1:50176 - \"GET /openapi.json HTTP/1.1\" 200 OK\n"
     ]
    },
    {
     "name": "stderr",
     "output_type": "stream",
     "text": [
      "INFO:     Shutting down\n",
      "INFO:     Waiting for application shutdown.\n",
      "INFO:     Application shutdown complete.\n",
      "INFO:     Finished server process [15628]\n"
     ]
    }
   ],
   "source": [
    "#ngrok_tunnel=ngrok.connect(8000)\n",
    "#print('public URL:', ngrok_tunnel.public_url)\n",
    "nest_asyncio.apply()\n",
    "uvicorn.run(app, port=8000)"
   ]
  },
  {
   "cell_type": "code",
   "execution_count": null,
   "id": "46f16e55-ffa0-4c61-9aeb-f4acbee7d047",
   "metadata": {},
   "outputs": [],
   "source": []
  }
 ],
 "metadata": {
  "kernelspec": {
   "display_name": "Python 3",
   "language": "python",
   "name": "python3"
  },
  "language_info": {
   "codemirror_mode": {
    "name": "ipython",
    "version": 3
   },
   "file_extension": ".py",
   "mimetype": "text/x-python",
   "name": "python",
   "nbconvert_exporter": "python",
   "pygments_lexer": "ipython3",
   "version": "3.10.5"
  },
  "vscode": {
   "interpreter": {
    "hash": "9b6e87d003f9beef23fc4bd9c67bc627a4dadedb4ab5a198db5d0479a5fedbef"
   }
  }
 },
 "nbformat": 4,
 "nbformat_minor": 5
}
